{
 "cells": [
  {
   "cell_type": "markdown",
   "id": "d596eed3",
   "metadata": {},
   "source": [
    "# GNOD 4"
   ]
  },
  {
   "cell_type": "code",
   "execution_count": 1,
   "id": "0ca5f725",
   "metadata": {},
   "outputs": [],
   "source": [
    "import numpy as np\n",
    "import pandas as pd\n",
    "\n",
    "from sklearn import cluster, datasets\n",
    "from sklearn.preprocessing import StandardScaler\n",
    "from sklearn.cluster import KMeans\n",
    "import pickle\n",
    "\n",
    "import spotipy\n",
    "from spotipy.oauth2 import SpotifyClientCredentials"
   ]
  },
  {
   "cell_type": "markdown",
   "id": "3444ab10",
   "metadata": {},
   "source": [
    "### Load data\n"
   ]
  },
  {
   "cell_type": "code",
   "execution_count": 2,
   "id": "f65200e1",
   "metadata": {},
   "outputs": [],
   "source": [
    "all_songs = pd.read_csv(\"all_songs.csv\")\n",
    "all_songs_numerical = pd.read_csv('all_songs_numerical.csv')\n",
    "all_songs_numerical = all_songs_numerical.drop (['Unnamed: 0'], axis=1)"
   ]
  },
  {
   "cell_type": "markdown",
   "id": "09f89dad",
   "metadata": {},
   "source": [
    "### getting scaler and Model"
   ]
  },
  {
   "cell_type": "code",
   "execution_count": 3,
   "id": "9129bec0",
   "metadata": {},
   "outputs": [],
   "source": [
    "scaler = pickle.load(open ('scaler.pkl','rb'))\n",
    "kmeans = pickle.load(open('kmeans.pkl','rb'))"
   ]
  },
  {
   "cell_type": "markdown",
   "id": "ab938b0d",
   "metadata": {},
   "source": [
    "### Connecting to Spotify"
   ]
  },
  {
   "cell_type": "code",
   "execution_count": 4,
   "id": "e71453a5",
   "metadata": {},
   "outputs": [],
   "source": [
    "def storing_secrets(password):\n",
    "    secrets_file = open(password,\"r\")\n",
    "    string = secrets_file.read()\n",
    "    secrets_dict={}\n",
    "    for line in string.split('\\n'):\n",
    "        if len(line) > 0:\n",
    "            secrets_dict[line.split(' -> ')[0]]=line.split(' -> ')[1].strip()\n",
    "    return secrets_dict"
   ]
  },
  {
   "cell_type": "code",
   "execution_count": 5,
   "id": "54a42370",
   "metadata": {},
   "outputs": [],
   "source": [
    "\n",
    "secrets_dict = storing_secrets(\"Spotify_API.txt\")\n",
    "#Initialize SpotiPy with user credentials\n",
    "sp = spotipy.Spotify(auth_manager=SpotifyClientCredentials(client_id=secrets_dict['Client ID'],\n",
    "                                                           client_secret=secrets_dict['Client Secret']))"
   ]
  },
  {
   "cell_type": "markdown",
   "id": "0c5eade9",
   "metadata": {},
   "source": [
    "### Function to get features from Spotify"
   ]
  },
  {
   "cell_type": "code",
   "execution_count": 6,
   "id": "75972c52",
   "metadata": {},
   "outputs": [],
   "source": [
    "def features (track):\n",
    "    track_id = sp.search(q='track:' + track, type='track')\n",
    "    uri =track_id[\"tracks\"][\"items\"][0][\"id\"]\n",
    "    features = sp.audio_features(uri)\n",
    "    return features"
   ]
  },
  {
   "cell_type": "markdown",
   "id": "1e1e137b",
   "metadata": {},
   "source": [
    "### Recommender"
   ]
  },
  {
   "cell_type": "code",
   "execution_count": 52,
   "id": "bdb6703b",
   "metadata": {},
   "outputs": [],
   "source": [
    "# Function:\n",
    "\n",
    "# First: \n",
    "## It takes numerical variables from spotify_data (corresponding to audio features\n",
    "## Select all X (no target yet)\n",
    "## Scale values of X\n",
    "## K-Means generate 6 clusters/segments (k=6 from elbow and 2nd max of silouhette)\n",
    "## and fit the model with X scaled (X_prep)\n",
    "\n",
    "# Then:\n",
    "## If song_searched IN Spotify_data --> retrieve audio features for that song\n",
    "## Scalate new audio features\n",
    "## Check against the previous KMeans fitted model\n",
    "## Obtain segment/cluster of searched song\n",
    "\n",
    "# If the song is NOT IN Spotify data:\n",
    "## send  to the Spotify API and get its audio features and store them.\n",
    "## scale the audio features and get the cluster of the song\n",
    "## Reccomend another random song from the same cluster\n",
    "\n",
    "def get_song_cluster(new_song, spotify_data):\n",
    "    from IPython.display import Markdown, display\n",
    "    \n",
    "    # Select X, but no target yet\n",
    "    X = all_songs_numerical\n",
    "\n",
    "    # Scaling Data\n",
    "    X_prep = StandardScaler().fit_transform(spotify_data)\n",
    "\n",
    "    # KMeans (k = 6) to create 6 clusters/segments\n",
    "    kmeans = KMeans(n_clusters=6, random_state=1234)\n",
    "    kmeans.fit(X_prep)\n",
    "    \n",
    "    # Predicting / assigning the clusters:\n",
    "    clusters = kmeans.predict(X_prep)\n",
    "    \n",
    "    # Converting both searched song and 'title' in spotify_data to lower case\n",
    "    new_song = new_song.lower() \n",
    "    all_songs['title'] = all_songs['title'].str.lower()\n",
    "\n",
    "    # Checking if the input song is in the Spotify data\n",
    "    if new_song in all_songs['title'].values:\n",
    "        \n",
    "        # Extracting the features for the input song \n",
    "        # (filtering through boolean mask and selecting first row of filtered)\n",
    "        song_features = all_songs_numerical.loc[all_songs['title']==new_song].iloc[0]\n",
    "        \n",
    "        # Predicting the cluster:\n",
    "        \n",
    "        # Solving dimensional issue and need for array:   \n",
    "        # Convert target_song to a numpy array and reshape to be a 2-dimensional array with one row\n",
    "        song_features_arr = np.array(song_features).reshape(1, -1)\n",
    "        \n",
    "        # Scaling target_song values using the same X_prep scaler used for X data\n",
    "        song_features_prep = StandardScaler().fit(X_prep).transform(song_features_arr)\n",
    "        # Predicting / assigning the clusters using the same Kmeans fitted before:\n",
    "        song_cluster = kmeans.predict(song_features_prep)\n",
    "        \n",
    "        # Recommending another random song from that cluster:\n",
    "        \n",
    "        # Selecting a random song from that cluster\n",
    "        random_song_idx = np.random.choice(np.where(kmeans.labels_ == song_cluster)[0])\n",
    "        \n",
    "        # Getting title of random songs\n",
    "        random_song = all_songs.iloc[random_song_idx]['title']\n",
    "        \n",
    "        display(Markdown(f\"The song '**{new_song.capitalize()}**' belongs to cluster '**{song_cluster[0]}**'.\\n\\n\"\n",
    "            f\"Here's a random song from the same cluster: '**{random_song.capitalize()}**'.\"))\n",
    "         \n",
    "    else:\n",
    "        try:\n",
    "            \n",
    "            # Go the Spotify API and get its audio features.\n",
    "            feature = features(new_song)\n",
    "            column = list(feature[0].keys())\n",
    "            values = [list(feature[0].values())]\n",
    "\n",
    "            # Make a dataframe and drop unnecessary variables\n",
    "            df_new_song = pd.DataFrame(data = feature, columns = column)\n",
    "            df_new_song = df_new_song.drop(['id','uri','track_href', 'type','analysis_url'], axis =1)\n",
    "\n",
    "            # scale the audio features and predict the cluster\n",
    "            std_new_song = scaler.transform(df_new_song)\n",
    "            new_cluster = kmeans.predict(std_new_song)\n",
    "\n",
    "            # Selecting a random song from that cluster\n",
    "            random_song_idx = np.random.choice(np.where(kmeans.labels_ == new_cluster)[0])\n",
    "\n",
    "            # Getting title of random songs\n",
    "            random_song = all_songs.iloc[random_song_idx]['title']\n",
    "\n",
    "            return display(Markdown(f\"'**{random_song.capitalize()}**': This is your recommendation! Enjoy it!\"))\n",
    "        \n",
    "        except IndexError:\n",
    "            \n",
    "            # When we introduce a Incorrect title of a song\n",
    "            print (\"Sorry, we don´t have a reccomendation for you, try again\")\n",
    "            new_song = input(\"Introduce the name of a song: \").lower()\n",
    "            get_song_cluster(new_song, all_songs_numerical)"
   ]
  },
  {
   "cell_type": "code",
   "execution_count": 53,
   "id": "7b481c83",
   "metadata": {},
   "outputs": [
    {
     "data": {
      "text/plain": [
       "0                                                   diles\n",
       "1       cayó la noche (feat. cruz cafuné, abhir hathi,...\n",
       "2                                                   limbo\n",
       "3                                                 lovumba\n",
       "4                                          no sigue modas\n",
       "                              ...                        \n",
       "5098                                  walking on sunshine\n",
       "5099                          walking on the chinese wall\n",
       "5100                                   we built this city\n",
       "5101                    you spin me round (like a record)\n",
       "5102                  you're my heart, you're my soul '98\n",
       "Name: title, Length: 5103, dtype: object"
      ]
     },
     "execution_count": 53,
     "metadata": {},
     "output_type": "execute_result"
    }
   ],
   "source": [
    "all_songs['title']"
   ]
  },
  {
   "cell_type": "code",
   "execution_count": 54,
   "id": "c80bb25c",
   "metadata": {},
   "outputs": [
    {
     "name": "stdout",
     "output_type": "stream",
     "text": [
      "Introduce the name of a song: gfhsdjgsdg\n",
      "Sorry, we don´t have a reccomendation for you, try again\n",
      "Introduce the name of a song: america\n"
     ]
    }
   ],
   "source": [
    "# Input\n",
    "new_song = input(\"Introduce the name of a song: \").lower()\n",
    "# Applying function\n",
    "get_song_cluster(new_song, all_songs_numerical)"
   ]
  },
  {
   "cell_type": "code",
   "execution_count": null,
   "id": "fce9f2e2",
   "metadata": {},
   "outputs": [],
   "source": []
  },
  {
   "cell_type": "code",
   "execution_count": null,
   "id": "d4f76f16",
   "metadata": {},
   "outputs": [],
   "source": []
  }
 ],
 "metadata": {
  "kernelspec": {
   "display_name": "Python 3 (ipykernel)",
   "language": "python",
   "name": "python3"
  },
  "language_info": {
   "codemirror_mode": {
    "name": "ipython",
    "version": 3
   },
   "file_extension": ".py",
   "mimetype": "text/x-python",
   "name": "python",
   "nbconvert_exporter": "python",
   "pygments_lexer": "ipython3",
   "version": "3.9.13"
  }
 },
 "nbformat": 4,
 "nbformat_minor": 5
}
