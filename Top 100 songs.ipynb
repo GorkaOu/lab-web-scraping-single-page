{
 "cells": [
  {
   "cell_type": "markdown",
   "id": "bca066e7",
   "metadata": {},
   "source": [
    "# GNOD 1"
   ]
  },
  {
   "cell_type": "code",
   "execution_count": 1,
   "id": "66028c78",
   "metadata": {},
   "outputs": [],
   "source": [
    "from bs4 import BeautifulSoup\n",
    "import requests\n",
    "import pandas as pd"
   ]
  },
  {
   "cell_type": "code",
   "execution_count": 2,
   "id": "6b5c3839",
   "metadata": {},
   "outputs": [],
   "source": [
    "# 2. find url and store it in a variable\n",
    "url = \"https://www.popvortex.com/music/charts/top-100-songs.php\""
   ]
  },
  {
   "cell_type": "code",
   "execution_count": 3,
   "id": "139cad3a",
   "metadata": {},
   "outputs": [
    {
     "data": {
      "text/plain": [
       "200"
      ]
     },
     "execution_count": 3,
     "metadata": {},
     "output_type": "execute_result"
    }
   ],
   "source": [
    "# 3. download html with a get request\n",
    "response = requests.get(url)\n",
    "response.status_code"
   ]
  },
  {
   "cell_type": "code",
   "execution_count": 4,
   "id": "ee6eeecc",
   "metadata": {},
   "outputs": [],
   "source": [
    "# 4.1. parse html (create the 'soup')\n",
    "soup = BeautifulSoup(response.content, \"html.parser\")"
   ]
  },
  {
   "cell_type": "code",
   "execution_count": 5,
   "id": "93cb71b4",
   "metadata": {},
   "outputs": [],
   "source": [
    "# 4.2. check that the html code looks like it should\n",
    "# soup"
   ]
  },
  {
   "cell_type": "code",
   "execution_count": 6,
   "id": "b5a1ca0e",
   "metadata": {},
   "outputs": [
    {
     "data": {
      "text/plain": [
       "[<p class=\"title-artist\"><cite class=\"title\">Last Night</cite><em class=\"artist\">Morgan Wallen</em></p>]"
      ]
     },
     "execution_count": 6,
     "metadata": {},
     "output_type": "execute_result"
    }
   ],
   "source": [
    "# 5. retrieve/extract the desired info (here, you'll paste the \"Selector\" you copied before to get the element that belongs to the top movie)\n",
    "soup.select(\"#chart-position-1 > div.chart-content.col-xs-12.col-sm-8 > p\")"
   ]
  },
  {
   "cell_type": "code",
   "execution_count": 7,
   "id": "d9917f32",
   "metadata": {},
   "outputs": [],
   "source": [
    "# soup.select(\"div.chart-content.col-xs-12.col-sm-8 > p\") # all the info about all the songs"
   ]
  },
  {
   "cell_type": "code",
   "execution_count": 8,
   "id": "8bd1937b",
   "metadata": {},
   "outputs": [
    {
     "data": {
      "text/plain": [
       "'Last Night'"
      ]
     },
     "execution_count": 8,
     "metadata": {},
     "output_type": "execute_result"
    }
   ],
   "source": [
    "# To get the title\n",
    "soup.select(\"div.chart-content.col-xs-12.col-sm-8 > p > cite\")[0].get_text()"
   ]
  },
  {
   "cell_type": "code",
   "execution_count": 9,
   "id": "cfe5d5e1",
   "metadata": {},
   "outputs": [
    {
     "data": {
      "text/plain": [
       "'Morgan Wallen'"
      ]
     },
     "execution_count": 9,
     "metadata": {},
     "output_type": "execute_result"
    }
   ],
   "source": [
    "# To get the artist\n",
    "soup.select(\"div.chart-content.col-xs-12.col-sm-8 > p > em\")[0].get_text()"
   ]
  },
  {
   "cell_type": "code",
   "execution_count": 10,
   "id": "d6034238",
   "metadata": {},
   "outputs": [],
   "source": [
    "#initialize empty lists\n",
    "title = []\n",
    "artist = []\n",
    "\n",
    "\n",
    "# define the number of iterations of our for loop\n",
    "# by checking how many elements are in the retrieved result set\n",
    "# (this is equivalent but more robust than just explicitly defining 250 iterations)\n",
    "num_iter = len(soup.select(\"div.chart-content.col-xs-12.col-sm-8 > p\"))\n",
    "\n",
    "tClist = soup.select(\"div.chart-content.col-xs-12.col-sm-8 > p > cite\")\n",
    "artistlist = soup.select(\"div.chart-content.col-xs-12.col-sm-8 > p > em\")\n",
    "# iterate through the result set and retrive all the data\n",
    "for i in range(num_iter):\n",
    "    title.append(tClist[i].get_text())\n",
    "    artist.append(artistlist[i].get_text())\n",
    "\n",
    "# print(title)\n",
    "# print(artist)"
   ]
  },
  {
   "cell_type": "code",
   "execution_count": 11,
   "id": "bedd6d5b",
   "metadata": {},
   "outputs": [],
   "source": [
    "# each list becomes a column\n",
    "music = pd.DataFrame({\"title\":title,\n",
    "                       \"artist\":artist\n",
    "                      })"
   ]
  },
  {
   "cell_type": "code",
   "execution_count": 12,
   "id": "4417902e",
   "metadata": {},
   "outputs": [
    {
     "data": {
      "text/html": [
       "<div>\n",
       "<style scoped>\n",
       "    .dataframe tbody tr th:only-of-type {\n",
       "        vertical-align: middle;\n",
       "    }\n",
       "\n",
       "    .dataframe tbody tr th {\n",
       "        vertical-align: top;\n",
       "    }\n",
       "\n",
       "    .dataframe thead th {\n",
       "        text-align: right;\n",
       "    }\n",
       "</style>\n",
       "<table border=\"1\" class=\"dataframe\">\n",
       "  <thead>\n",
       "    <tr style=\"text-align: right;\">\n",
       "      <th></th>\n",
       "      <th>title</th>\n",
       "      <th>artist</th>\n",
       "    </tr>\n",
       "  </thead>\n",
       "  <tbody>\n",
       "    <tr>\n",
       "      <th>0</th>\n",
       "      <td>Last Night</td>\n",
       "      <td>Morgan Wallen</td>\n",
       "    </tr>\n",
       "    <tr>\n",
       "      <th>1</th>\n",
       "      <td>Flowers</td>\n",
       "      <td>Miley Cyrus</td>\n",
       "    </tr>\n",
       "    <tr>\n",
       "      <th>2</th>\n",
       "      <td>Fast Car</td>\n",
       "      <td>Luke Combs</td>\n",
       "    </tr>\n",
       "    <tr>\n",
       "      <th>3</th>\n",
       "      <td>Thank God I Do</td>\n",
       "      <td>Lauren Daigle</td>\n",
       "    </tr>\n",
       "    <tr>\n",
       "      <th>4</th>\n",
       "      <td>Like Crazy (Deep House Remix)</td>\n",
       "      <td>Jimin</td>\n",
       "    </tr>\n",
       "    <tr>\n",
       "      <th>...</th>\n",
       "      <td>...</td>\n",
       "      <td>...</td>\n",
       "    </tr>\n",
       "    <tr>\n",
       "      <th>95</th>\n",
       "      <td>Shivers</td>\n",
       "      <td>Ed Sheeran</td>\n",
       "    </tr>\n",
       "    <tr>\n",
       "      <th>96</th>\n",
       "      <td>Tennessee Orange</td>\n",
       "      <td>Megan Moroney</td>\n",
       "    </tr>\n",
       "    <tr>\n",
       "      <th>97</th>\n",
       "      <td>God Is In This Story</td>\n",
       "      <td>Katy Nichole &amp; Big Daddy Weave</td>\n",
       "    </tr>\n",
       "    <tr>\n",
       "      <th>98</th>\n",
       "      <td>What He Didn't Do</td>\n",
       "      <td>Carly Pearce</td>\n",
       "    </tr>\n",
       "    <tr>\n",
       "      <th>99</th>\n",
       "      <td>Bonjour</td>\n",
       "      <td>Zoey Dollaz</td>\n",
       "    </tr>\n",
       "  </tbody>\n",
       "</table>\n",
       "<p>100 rows × 2 columns</p>\n",
       "</div>"
      ],
      "text/plain": [
       "                            title                          artist\n",
       "0                      Last Night                   Morgan Wallen\n",
       "1                         Flowers                     Miley Cyrus\n",
       "2                        Fast Car                      Luke Combs\n",
       "3                  Thank God I Do                   Lauren Daigle\n",
       "4   Like Crazy (Deep House Remix)                           Jimin\n",
       "..                            ...                             ...\n",
       "95                        Shivers                      Ed Sheeran\n",
       "96               Tennessee Orange                   Megan Moroney\n",
       "97           God Is In This Story  Katy Nichole & Big Daddy Weave\n",
       "98              What He Didn't Do                    Carly Pearce\n",
       "99                        Bonjour                     Zoey Dollaz\n",
       "\n",
       "[100 rows x 2 columns]"
      ]
     },
     "execution_count": 12,
     "metadata": {},
     "output_type": "execute_result"
    }
   ],
   "source": [
    "music"
   ]
  },
  {
   "cell_type": "markdown",
   "id": "6d56c2de",
   "metadata": {},
   "source": [
    "# GNOD 2"
   ]
  },
  {
   "cell_type": "code",
   "execution_count": 13,
   "id": "4675a4ef",
   "metadata": {},
   "outputs": [],
   "source": [
    "# 1st question\n",
    "# artist_name = input (\" What´s the singer´s name? \")"
   ]
  },
  {
   "cell_type": "code",
   "execution_count": 14,
   "id": "7eb84e05",
   "metadata": {},
   "outputs": [],
   "source": [
    "# 2nd question\n",
    "# song_title = input (\"What´s the song title? \")"
   ]
  },
  {
   "cell_type": "code",
   "execution_count": 15,
   "id": "37644c52",
   "metadata": {},
   "outputs": [],
   "source": [
    "music_title = music.sample(n=1)\n",
    "# print (pd.Series(music_title['title'].values), pd.Series(music_title['artist'].values)) "
   ]
  },
  {
   "cell_type": "code",
   "execution_count": 16,
   "id": "c5e43912",
   "metadata": {},
   "outputs": [],
   "source": [
    "# if len(music[(music['artist'] == artist_name) & (music['title'] == song_title)]) == 1:\n",
    "#     print (music_title)\n",
    "# else:\n",
    "#     print (\"Sorry, we don´t have any recommendation for you\")"
   ]
  },
  {
   "cell_type": "markdown",
   "id": "03c31723",
   "metadata": {},
   "source": [
    "# GNOD 3"
   ]
  },
  {
   "cell_type": "code",
   "execution_count": 17,
   "id": "e70e579d",
   "metadata": {},
   "outputs": [],
   "source": [
    "import spotipy\n",
    "from spotipy.oauth2 import SpotifyClientCredentials\n",
    "from random import randint\n",
    "from time import sleep"
   ]
  },
  {
   "cell_type": "markdown",
   "id": "ff21e1e5",
   "metadata": {},
   "source": [
    "**Storing secrets**"
   ]
  },
  {
   "cell_type": "code",
   "execution_count": 18,
   "id": "ce3946aa",
   "metadata": {},
   "outputs": [],
   "source": [
    "def storing_secrets(password):\n",
    "    secrets_file = open(password,\"r\")\n",
    "    string = secrets_file.read()\n",
    "    secrets_dict={}\n",
    "    for line in string.split('\\n'):\n",
    "        if len(line) > 0:\n",
    "            secrets_dict[line.split(' -> ')[0]]=line.split(' -> ')[1].strip()\n",
    "    return secrets_dict"
   ]
  },
  {
   "cell_type": "code",
   "execution_count": 19,
   "id": "ffadf9c1",
   "metadata": {},
   "outputs": [],
   "source": [
    "secrets_dict = storing_secrets(\"Spotify API.txt\")"
   ]
  },
  {
   "cell_type": "markdown",
   "id": "df0eef94",
   "metadata": {},
   "source": [
    "**Authentication with secrets**"
   ]
  },
  {
   "cell_type": "code",
   "execution_count": 20,
   "id": "892ec5d7",
   "metadata": {},
   "outputs": [],
   "source": [
    "import spotipy\n",
    "from spotipy.oauth2 import SpotifyClientCredentials\n",
    "\n",
    "#Initialize SpotiPy with user credentials\n",
    "sp = spotipy.Spotify(auth_manager=SpotifyClientCredentials(client_id=secrets_dict['Client ID'],\n",
    "                                                           client_secret=secrets_dict['Client Secret']))"
   ]
  },
  {
   "cell_type": "code",
   "execution_count": 21,
   "id": "efd0e66b",
   "metadata": {},
   "outputs": [],
   "source": [
    "playlist = sp.user_playlist_tracks(\"spotify\", \"3eSxghZaZ5XwsCGGC211O2\")\n"
   ]
  },
  {
   "cell_type": "code",
   "execution_count": 22,
   "id": "9a72a594",
   "metadata": {},
   "outputs": [
    {
     "data": {
      "text/plain": [
       "399"
      ]
     },
     "execution_count": 22,
     "metadata": {},
     "output_type": "execute_result"
    }
   ],
   "source": [
    "# It is limited to 100\n",
    "# playlist\n",
    "playlist[\"total\"]"
   ]
  },
  {
   "cell_type": "code",
   "execution_count": 23,
   "id": "3debf280",
   "metadata": {},
   "outputs": [
    {
     "data": {
      "text/plain": [
       "'Diles'"
      ]
     },
     "metadata": {},
     "output_type": "display_data"
    },
    {
     "data": {
      "text/plain": [
       "'Bad Bunny'"
      ]
     },
     "metadata": {},
     "output_type": "display_data"
    },
    {
     "data": {
      "text/plain": [
       "'spotify:track:6C1RD7YQVvt3YQj0CmuTeu'"
      ]
     },
     "metadata": {},
     "output_type": "display_data"
    },
    {
     "data": {
      "text/plain": [
       "'https://open.spotify.com/track/6C1RD7YQVvt3YQj0CmuTeu'"
      ]
     },
     "metadata": {},
     "output_type": "display_data"
    }
   ],
   "source": [
    "display(playlist[\"items\"][0][\"track\"][\"name\"]) # song\n",
    "display(playlist[\"items\"][0][\"track\"][\"artists\"][0][\"name\"]) # artist\n",
    "display(playlist[\"items\"][0][\"track\"][\"uri\"]) # uri\n",
    "display(playlist[\"items\"][0][\"track\"]['external_urls']['spotify']) # track url"
   ]
  },
  {
   "cell_type": "code",
   "execution_count": 24,
   "id": "c20db927",
   "metadata": {},
   "outputs": [],
   "source": [
    "# Create a function to get the song, artist, uri and track url.\n",
    "def get_name_artists_from_track(track):\n",
    "    return [(track[\"track\"][\"name\"],artist[\"name\"],track[\"track\"]['external_urls']['spotify'],track[\"track\"]['uri']) for artist in track[\"track\"][\"artists\"]]"
   ]
  },
  {
   "cell_type": "code",
   "execution_count": 25,
   "id": "e58adbfe",
   "metadata": {},
   "outputs": [],
   "source": [
    "# For flatten them\n",
    "def flatten(input_list):\n",
    "    return [item for sublist in input_list for item in sublist]"
   ]
  },
  {
   "cell_type": "code",
   "execution_count": 30,
   "id": "6d81f7c0",
   "metadata": {},
   "outputs": [],
   "source": [
    "# This function will show a Dataframe for the first 100 songs\n",
    "def create_dataframe(playlist, sp):\n",
    "        \n",
    "    all_songs_artists = list(map(get_name_artists_from_track,playlist[\"items\"]))\n",
    "    \n",
    "    data = pd.DataFrame(flatten(all_songs_artists), columns =['title', 'artists', 'uri','url'])\n",
    "     \n",
    "    audio_features =[]\n",
    "    i = 0\n",
    "    for item in data['uri']:\n",
    "        audio_features.append(sp.audio_features(item)[0])\n",
    "        if i % 5 == 0:\n",
    "            sleep(randint(1,3000)/1000)\n",
    "        i = i + 1\n",
    "        \n",
    "    audio_features = pd.DataFrame (audio_features)\n",
    "        \n",
    "    audio_features = audio_features.drop(['id','uri','track_href', 'type','analysis_url'], axis =1)\n",
    "        \n",
    "    All_data = pd.concat([data, audio_features], axis=1)\n",
    "    All_data = All_data.drop ('uri', axis =1)\n",
    "    All_data = All_data.drop_duplicates(subset=['url']).reset_index(drop=True)\n",
    "    return All_data"
   ]
  },
  {
   "cell_type": "code",
   "execution_count": 31,
   "id": "83374010",
   "metadata": {},
   "outputs": [
    {
     "data": {
      "text/html": [
       "<div>\n",
       "<style scoped>\n",
       "    .dataframe tbody tr th:only-of-type {\n",
       "        vertical-align: middle;\n",
       "    }\n",
       "\n",
       "    .dataframe tbody tr th {\n",
       "        vertical-align: top;\n",
       "    }\n",
       "\n",
       "    .dataframe thead th {\n",
       "        text-align: right;\n",
       "    }\n",
       "</style>\n",
       "<table border=\"1\" class=\"dataframe\">\n",
       "  <thead>\n",
       "    <tr style=\"text-align: right;\">\n",
       "      <th></th>\n",
       "      <th>title</th>\n",
       "      <th>artists</th>\n",
       "      <th>url</th>\n",
       "      <th>danceability</th>\n",
       "      <th>energy</th>\n",
       "      <th>key</th>\n",
       "      <th>loudness</th>\n",
       "      <th>mode</th>\n",
       "      <th>speechiness</th>\n",
       "      <th>acousticness</th>\n",
       "      <th>instrumentalness</th>\n",
       "      <th>liveness</th>\n",
       "      <th>valence</th>\n",
       "      <th>tempo</th>\n",
       "      <th>duration_ms</th>\n",
       "      <th>time_signature</th>\n",
       "    </tr>\n",
       "  </thead>\n",
       "  <tbody>\n",
       "    <tr>\n",
       "      <th>0</th>\n",
       "      <td>Diles</td>\n",
       "      <td>Bad Bunny</td>\n",
       "      <td>spotify:track:6C1RD7YQVvt3YQj0CmuTeu</td>\n",
       "      <td>0.813</td>\n",
       "      <td>0.560</td>\n",
       "      <td>2</td>\n",
       "      <td>-5.904</td>\n",
       "      <td>0</td>\n",
       "      <td>0.0618</td>\n",
       "      <td>0.1080</td>\n",
       "      <td>0.000000</td>\n",
       "      <td>0.2680</td>\n",
       "      <td>0.287</td>\n",
       "      <td>118.033</td>\n",
       "      <td>286041</td>\n",
       "      <td>4</td>\n",
       "    </tr>\n",
       "    <tr>\n",
       "      <th>7</th>\n",
       "      <td>Cayó La Noche (feat. Cruz Cafuné, Abhir Hathi,...</td>\n",
       "      <td>La Pantera</td>\n",
       "      <td>spotify:track:0Bv7O6fmZk3GrNQFYJaXPn</td>\n",
       "      <td>0.672</td>\n",
       "      <td>0.745</td>\n",
       "      <td>5</td>\n",
       "      <td>-5.269</td>\n",
       "      <td>0</td>\n",
       "      <td>0.3000</td>\n",
       "      <td>0.4380</td>\n",
       "      <td>0.000009</td>\n",
       "      <td>0.0699</td>\n",
       "      <td>0.739</td>\n",
       "      <td>173.974</td>\n",
       "      <td>413111</td>\n",
       "      <td>4</td>\n",
       "    </tr>\n",
       "    <tr>\n",
       "      <th>14</th>\n",
       "      <td>Limbo</td>\n",
       "      <td>Daddy Yankee</td>\n",
       "      <td>spotify:track:3pDhN3qB33AOPhQEkUCaWt</td>\n",
       "      <td>0.806</td>\n",
       "      <td>0.875</td>\n",
       "      <td>7</td>\n",
       "      <td>-3.817</td>\n",
       "      <td>1</td>\n",
       "      <td>0.0880</td>\n",
       "      <td>0.0838</td>\n",
       "      <td>0.001920</td>\n",
       "      <td>0.0650</td>\n",
       "      <td>0.917</td>\n",
       "      <td>125.063</td>\n",
       "      <td>224693</td>\n",
       "      <td>4</td>\n",
       "    </tr>\n",
       "    <tr>\n",
       "      <th>15</th>\n",
       "      <td>Lovumba</td>\n",
       "      <td>Daddy Yankee</td>\n",
       "      <td>spotify:track:6oyl7ELfrMqXLhGmIjXY9R</td>\n",
       "      <td>0.734</td>\n",
       "      <td>0.933</td>\n",
       "      <td>11</td>\n",
       "      <td>-4.639</td>\n",
       "      <td>0</td>\n",
       "      <td>0.0578</td>\n",
       "      <td>0.0375</td>\n",
       "      <td>0.000000</td>\n",
       "      <td>0.3020</td>\n",
       "      <td>0.935</td>\n",
       "      <td>120.987</td>\n",
       "      <td>218413</td>\n",
       "      <td>4</td>\n",
       "    </tr>\n",
       "    <tr>\n",
       "      <th>16</th>\n",
       "      <td>No Sigue Modas</td>\n",
       "      <td>Juan Magán</td>\n",
       "      <td>spotify:track:0Qqrehp0IC6ppqIUz6mPCe</td>\n",
       "      <td>0.709</td>\n",
       "      <td>0.801</td>\n",
       "      <td>0</td>\n",
       "      <td>-4.688</td>\n",
       "      <td>1</td>\n",
       "      <td>0.0533</td>\n",
       "      <td>0.0252</td>\n",
       "      <td>0.000000</td>\n",
       "      <td>0.1590</td>\n",
       "      <td>0.829</td>\n",
       "      <td>128.007</td>\n",
       "      <td>189840</td>\n",
       "      <td>4</td>\n",
       "    </tr>\n",
       "    <tr>\n",
       "      <th>...</th>\n",
       "      <td>...</td>\n",
       "      <td>...</td>\n",
       "      <td>...</td>\n",
       "      <td>...</td>\n",
       "      <td>...</td>\n",
       "      <td>...</td>\n",
       "      <td>...</td>\n",
       "      <td>...</td>\n",
       "      <td>...</td>\n",
       "      <td>...</td>\n",
       "      <td>...</td>\n",
       "      <td>...</td>\n",
       "      <td>...</td>\n",
       "      <td>...</td>\n",
       "      <td>...</td>\n",
       "      <td>...</td>\n",
       "    </tr>\n",
       "    <tr>\n",
       "      <th>241</th>\n",
       "      <td>Ay Vamos</td>\n",
       "      <td>J Balvin</td>\n",
       "      <td>spotify:track:6Ges5C2IE738iJh4HyQizQ</td>\n",
       "      <td>0.718</td>\n",
       "      <td>0.711</td>\n",
       "      <td>8</td>\n",
       "      <td>-5.746</td>\n",
       "      <td>0</td>\n",
       "      <td>0.1100</td>\n",
       "      <td>0.1570</td>\n",
       "      <td>0.000055</td>\n",
       "      <td>0.1000</td>\n",
       "      <td>0.920</td>\n",
       "      <td>173.916</td>\n",
       "      <td>226413</td>\n",
       "      <td>4</td>\n",
       "    </tr>\n",
       "    <tr>\n",
       "      <th>242</th>\n",
       "      <td>6 AM</td>\n",
       "      <td>J Balvin</td>\n",
       "      <td>spotify:track:7mPwkbaoiQ5bf8FPbRJzUr</td>\n",
       "      <td>0.747</td>\n",
       "      <td>0.739</td>\n",
       "      <td>5</td>\n",
       "      <td>-5.256</td>\n",
       "      <td>0</td>\n",
       "      <td>0.0931</td>\n",
       "      <td>0.1420</td>\n",
       "      <td>0.000000</td>\n",
       "      <td>0.2730</td>\n",
       "      <td>0.737</td>\n",
       "      <td>175.978</td>\n",
       "      <td>243227</td>\n",
       "      <td>4</td>\n",
       "    </tr>\n",
       "    <tr>\n",
       "      <th>244</th>\n",
       "      <td>Ginza</td>\n",
       "      <td>J Balvin</td>\n",
       "      <td>spotify:track:2C2TGgFzrTRIOdQS1vUN5h</td>\n",
       "      <td>0.730</td>\n",
       "      <td>0.809</td>\n",
       "      <td>5</td>\n",
       "      <td>-6.406</td>\n",
       "      <td>0</td>\n",
       "      <td>0.0876</td>\n",
       "      <td>0.2080</td>\n",
       "      <td>0.001300</td>\n",
       "      <td>0.0804</td>\n",
       "      <td>0.825</td>\n",
       "      <td>101.965</td>\n",
       "      <td>171093</td>\n",
       "      <td>4</td>\n",
       "    </tr>\n",
       "    <tr>\n",
       "      <th>245</th>\n",
       "      <td>La Nueva Y La Ex</td>\n",
       "      <td>Daddy Yankee</td>\n",
       "      <td>spotify:track:6WuufZDBNoEJBTinRiznhO</td>\n",
       "      <td>0.640</td>\n",
       "      <td>0.943</td>\n",
       "      <td>5</td>\n",
       "      <td>-3.542</td>\n",
       "      <td>1</td>\n",
       "      <td>0.1370</td>\n",
       "      <td>0.0464</td>\n",
       "      <td>0.000000</td>\n",
       "      <td>0.1370</td>\n",
       "      <td>0.637</td>\n",
       "      <td>198.062</td>\n",
       "      <td>197053</td>\n",
       "      <td>4</td>\n",
       "    </tr>\n",
       "    <tr>\n",
       "      <th>246</th>\n",
       "      <td>Propuesta Indecente</td>\n",
       "      <td>Romeo Santos</td>\n",
       "      <td>spotify:track:5PycBIeabfvX3n9ILG7Vrv</td>\n",
       "      <td>0.757</td>\n",
       "      <td>0.632</td>\n",
       "      <td>2</td>\n",
       "      <td>-6.830</td>\n",
       "      <td>1</td>\n",
       "      <td>0.0549</td>\n",
       "      <td>0.4990</td>\n",
       "      <td>0.000000</td>\n",
       "      <td>0.0723</td>\n",
       "      <td>0.742</td>\n",
       "      <td>122.936</td>\n",
       "      <td>235133</td>\n",
       "      <td>4</td>\n",
       "    </tr>\n",
       "  </tbody>\n",
       "</table>\n",
       "<p>100 rows × 16 columns</p>\n",
       "</div>"
      ],
      "text/plain": [
       "                                                 title       artists  \\\n",
       "0                                                Diles     Bad Bunny   \n",
       "7    Cayó La Noche (feat. Cruz Cafuné, Abhir Hathi,...    La Pantera   \n",
       "14                                               Limbo  Daddy Yankee   \n",
       "15                                             Lovumba  Daddy Yankee   \n",
       "16                                      No Sigue Modas    Juan Magán   \n",
       "..                                                 ...           ...   \n",
       "241                                           Ay Vamos      J Balvin   \n",
       "242                                               6 AM      J Balvin   \n",
       "244                                              Ginza      J Balvin   \n",
       "245                                   La Nueva Y La Ex  Daddy Yankee   \n",
       "246                                Propuesta Indecente  Romeo Santos   \n",
       "\n",
       "                                      url  danceability  energy  key  \\\n",
       "0    spotify:track:6C1RD7YQVvt3YQj0CmuTeu         0.813   0.560    2   \n",
       "7    spotify:track:0Bv7O6fmZk3GrNQFYJaXPn         0.672   0.745    5   \n",
       "14   spotify:track:3pDhN3qB33AOPhQEkUCaWt         0.806   0.875    7   \n",
       "15   spotify:track:6oyl7ELfrMqXLhGmIjXY9R         0.734   0.933   11   \n",
       "16   spotify:track:0Qqrehp0IC6ppqIUz6mPCe         0.709   0.801    0   \n",
       "..                                    ...           ...     ...  ...   \n",
       "241  spotify:track:6Ges5C2IE738iJh4HyQizQ         0.718   0.711    8   \n",
       "242  spotify:track:7mPwkbaoiQ5bf8FPbRJzUr         0.747   0.739    5   \n",
       "244  spotify:track:2C2TGgFzrTRIOdQS1vUN5h         0.730   0.809    5   \n",
       "245  spotify:track:6WuufZDBNoEJBTinRiznhO         0.640   0.943    5   \n",
       "246  spotify:track:5PycBIeabfvX3n9ILG7Vrv         0.757   0.632    2   \n",
       "\n",
       "     loudness  mode  speechiness  acousticness  instrumentalness  liveness  \\\n",
       "0      -5.904     0       0.0618        0.1080          0.000000    0.2680   \n",
       "7      -5.269     0       0.3000        0.4380          0.000009    0.0699   \n",
       "14     -3.817     1       0.0880        0.0838          0.001920    0.0650   \n",
       "15     -4.639     0       0.0578        0.0375          0.000000    0.3020   \n",
       "16     -4.688     1       0.0533        0.0252          0.000000    0.1590   \n",
       "..        ...   ...          ...           ...               ...       ...   \n",
       "241    -5.746     0       0.1100        0.1570          0.000055    0.1000   \n",
       "242    -5.256     0       0.0931        0.1420          0.000000    0.2730   \n",
       "244    -6.406     0       0.0876        0.2080          0.001300    0.0804   \n",
       "245    -3.542     1       0.1370        0.0464          0.000000    0.1370   \n",
       "246    -6.830     1       0.0549        0.4990          0.000000    0.0723   \n",
       "\n",
       "     valence    tempo  duration_ms  time_signature  \n",
       "0      0.287  118.033       286041               4  \n",
       "7      0.739  173.974       413111               4  \n",
       "14     0.917  125.063       224693               4  \n",
       "15     0.935  120.987       218413               4  \n",
       "16     0.829  128.007       189840               4  \n",
       "..       ...      ...          ...             ...  \n",
       "241    0.920  173.916       226413               4  \n",
       "242    0.737  175.978       243227               4  \n",
       "244    0.825  101.965       171093               4  \n",
       "245    0.637  198.062       197053               4  \n",
       "246    0.742  122.936       235133               4  \n",
       "\n",
       "[100 rows x 16 columns]"
      ]
     },
     "execution_count": 31,
     "metadata": {},
     "output_type": "execute_result"
    }
   ],
   "source": [
    "create_dataframe(playlist, sp)"
   ]
  },
  {
   "cell_type": "code",
   "execution_count": 34,
   "id": "2f010dc1",
   "metadata": {},
   "outputs": [],
   "source": [
    "def get_playlist(playlist_id):\n",
    "    all_songs =[]\n",
    "    all_songs.append (create_dataframe(playlist_id, sp))\n",
    "    while playlist_id['next']!=None:\n",
    "        playlist_id = sp.next(playlist_id)\n",
    "        all_songs.append (create_dataframe(playlist_id, sp))\n",
    "        print (len(all_songs))\n",
    "    return all_songs"
   ]
  },
  {
   "cell_type": "code",
   "execution_count": 35,
   "id": "ff012f5a",
   "metadata": {},
   "outputs": [
    {
     "name": "stdout",
     "output_type": "stream",
     "text": [
      "2\n",
      "3\n",
      "4\n"
     ]
    }
   ],
   "source": [
    "finalframe = get_playlist(playlist)"
   ]
  },
  {
   "cell_type": "code",
   "execution_count": 36,
   "id": "675b93f8",
   "metadata": {},
   "outputs": [],
   "source": [
    "final = pd.concat (finalframe)"
   ]
  },
  {
   "cell_type": "code",
   "execution_count": 37,
   "id": "8d74d278",
   "metadata": {},
   "outputs": [
    {
     "data": {
      "text/html": [
       "<div>\n",
       "<style scoped>\n",
       "    .dataframe tbody tr th:only-of-type {\n",
       "        vertical-align: middle;\n",
       "    }\n",
       "\n",
       "    .dataframe tbody tr th {\n",
       "        vertical-align: top;\n",
       "    }\n",
       "\n",
       "    .dataframe thead th {\n",
       "        text-align: right;\n",
       "    }\n",
       "</style>\n",
       "<table border=\"1\" class=\"dataframe\">\n",
       "  <thead>\n",
       "    <tr style=\"text-align: right;\">\n",
       "      <th></th>\n",
       "      <th>title</th>\n",
       "      <th>artists</th>\n",
       "      <th>url</th>\n",
       "      <th>danceability</th>\n",
       "      <th>energy</th>\n",
       "      <th>key</th>\n",
       "      <th>loudness</th>\n",
       "      <th>mode</th>\n",
       "      <th>speechiness</th>\n",
       "      <th>acousticness</th>\n",
       "      <th>instrumentalness</th>\n",
       "      <th>liveness</th>\n",
       "      <th>valence</th>\n",
       "      <th>tempo</th>\n",
       "      <th>duration_ms</th>\n",
       "      <th>time_signature</th>\n",
       "    </tr>\n",
       "  </thead>\n",
       "  <tbody>\n",
       "    <tr>\n",
       "      <th>0</th>\n",
       "      <td>Diles</td>\n",
       "      <td>Bad Bunny</td>\n",
       "      <td>spotify:track:6C1RD7YQVvt3YQj0CmuTeu</td>\n",
       "      <td>0.813</td>\n",
       "      <td>0.560</td>\n",
       "      <td>2</td>\n",
       "      <td>-5.904</td>\n",
       "      <td>0</td>\n",
       "      <td>0.0618</td>\n",
       "      <td>0.1080</td>\n",
       "      <td>0.000000</td>\n",
       "      <td>0.2680</td>\n",
       "      <td>0.287</td>\n",
       "      <td>118.033</td>\n",
       "      <td>286041</td>\n",
       "      <td>4</td>\n",
       "    </tr>\n",
       "    <tr>\n",
       "      <th>7</th>\n",
       "      <td>Cayó La Noche (feat. Cruz Cafuné, Abhir Hathi,...</td>\n",
       "      <td>La Pantera</td>\n",
       "      <td>spotify:track:0Bv7O6fmZk3GrNQFYJaXPn</td>\n",
       "      <td>0.672</td>\n",
       "      <td>0.745</td>\n",
       "      <td>5</td>\n",
       "      <td>-5.269</td>\n",
       "      <td>0</td>\n",
       "      <td>0.3000</td>\n",
       "      <td>0.4380</td>\n",
       "      <td>0.000009</td>\n",
       "      <td>0.0699</td>\n",
       "      <td>0.739</td>\n",
       "      <td>173.974</td>\n",
       "      <td>413111</td>\n",
       "      <td>4</td>\n",
       "    </tr>\n",
       "    <tr>\n",
       "      <th>14</th>\n",
       "      <td>Limbo</td>\n",
       "      <td>Daddy Yankee</td>\n",
       "      <td>spotify:track:3pDhN3qB33AOPhQEkUCaWt</td>\n",
       "      <td>0.806</td>\n",
       "      <td>0.875</td>\n",
       "      <td>7</td>\n",
       "      <td>-3.817</td>\n",
       "      <td>1</td>\n",
       "      <td>0.0880</td>\n",
       "      <td>0.0838</td>\n",
       "      <td>0.001920</td>\n",
       "      <td>0.0650</td>\n",
       "      <td>0.917</td>\n",
       "      <td>125.063</td>\n",
       "      <td>224693</td>\n",
       "      <td>4</td>\n",
       "    </tr>\n",
       "    <tr>\n",
       "      <th>15</th>\n",
       "      <td>Lovumba</td>\n",
       "      <td>Daddy Yankee</td>\n",
       "      <td>spotify:track:6oyl7ELfrMqXLhGmIjXY9R</td>\n",
       "      <td>0.734</td>\n",
       "      <td>0.933</td>\n",
       "      <td>11</td>\n",
       "      <td>-4.639</td>\n",
       "      <td>0</td>\n",
       "      <td>0.0578</td>\n",
       "      <td>0.0375</td>\n",
       "      <td>0.000000</td>\n",
       "      <td>0.3020</td>\n",
       "      <td>0.935</td>\n",
       "      <td>120.987</td>\n",
       "      <td>218413</td>\n",
       "      <td>4</td>\n",
       "    </tr>\n",
       "    <tr>\n",
       "      <th>16</th>\n",
       "      <td>No Sigue Modas</td>\n",
       "      <td>Juan Magán</td>\n",
       "      <td>spotify:track:0Qqrehp0IC6ppqIUz6mPCe</td>\n",
       "      <td>0.709</td>\n",
       "      <td>0.801</td>\n",
       "      <td>0</td>\n",
       "      <td>-4.688</td>\n",
       "      <td>1</td>\n",
       "      <td>0.0533</td>\n",
       "      <td>0.0252</td>\n",
       "      <td>0.000000</td>\n",
       "      <td>0.1590</td>\n",
       "      <td>0.829</td>\n",
       "      <td>128.007</td>\n",
       "      <td>189840</td>\n",
       "      <td>4</td>\n",
       "    </tr>\n",
       "    <tr>\n",
       "      <th>...</th>\n",
       "      <td>...</td>\n",
       "      <td>...</td>\n",
       "      <td>...</td>\n",
       "      <td>...</td>\n",
       "      <td>...</td>\n",
       "      <td>...</td>\n",
       "      <td>...</td>\n",
       "      <td>...</td>\n",
       "      <td>...</td>\n",
       "      <td>...</td>\n",
       "      <td>...</td>\n",
       "      <td>...</td>\n",
       "      <td>...</td>\n",
       "      <td>...</td>\n",
       "      <td>...</td>\n",
       "      <td>...</td>\n",
       "    </tr>\n",
       "    <tr>\n",
       "      <th>178</th>\n",
       "      <td>Tiempos de Plan B</td>\n",
       "      <td>Maldy</td>\n",
       "      <td>spotify:track:3ncDEAUzMdf291D27RJQdM</td>\n",
       "      <td>0.766</td>\n",
       "      <td>0.913</td>\n",
       "      <td>2</td>\n",
       "      <td>-3.760</td>\n",
       "      <td>1</td>\n",
       "      <td>0.0954</td>\n",
       "      <td>0.0879</td>\n",
       "      <td>0.000000</td>\n",
       "      <td>0.0622</td>\n",
       "      <td>0.720</td>\n",
       "      <td>167.927</td>\n",
       "      <td>161288</td>\n",
       "      <td>4</td>\n",
       "    </tr>\n",
       "    <tr>\n",
       "      <th>179</th>\n",
       "      <td>REMIX EXCLUSIVO</td>\n",
       "      <td>Feid</td>\n",
       "      <td>spotify:track:3eqCJfgJJs8iKx49KO12s3</td>\n",
       "      <td>0.651</td>\n",
       "      <td>0.557</td>\n",
       "      <td>5</td>\n",
       "      <td>-5.466</td>\n",
       "      <td>0</td>\n",
       "      <td>0.2040</td>\n",
       "      <td>0.0358</td>\n",
       "      <td>0.000000</td>\n",
       "      <td>0.1540</td>\n",
       "      <td>0.711</td>\n",
       "      <td>87.063</td>\n",
       "      <td>206947</td>\n",
       "      <td>4</td>\n",
       "    </tr>\n",
       "    <tr>\n",
       "      <th>180</th>\n",
       "      <td>Coco Chanel</td>\n",
       "      <td>Eladio Carrion</td>\n",
       "      <td>spotify:track:0PB0O24JqAuNdOAFVJljMS</td>\n",
       "      <td>0.683</td>\n",
       "      <td>0.764</td>\n",
       "      <td>2</td>\n",
       "      <td>-5.995</td>\n",
       "      <td>1</td>\n",
       "      <td>0.0441</td>\n",
       "      <td>0.0427</td>\n",
       "      <td>0.000000</td>\n",
       "      <td>0.0963</td>\n",
       "      <td>0.137</td>\n",
       "      <td>149.949</td>\n",
       "      <td>160325</td>\n",
       "      <td>4</td>\n",
       "    </tr>\n",
       "    <tr>\n",
       "      <th>182</th>\n",
       "      <td>Las Bratz (Remix)</td>\n",
       "      <td>Aissa</td>\n",
       "      <td>spotify:track:36W1V6ft4fX7HQVSdIYL0J</td>\n",
       "      <td>0.810</td>\n",
       "      <td>0.815</td>\n",
       "      <td>10</td>\n",
       "      <td>-3.101</td>\n",
       "      <td>0</td>\n",
       "      <td>0.1000</td>\n",
       "      <td>0.2310</td>\n",
       "      <td>0.000000</td>\n",
       "      <td>0.0577</td>\n",
       "      <td>0.958</td>\n",
       "      <td>95.003</td>\n",
       "      <td>444632</td>\n",
       "      <td>4</td>\n",
       "    </tr>\n",
       "    <tr>\n",
       "      <th>189</th>\n",
       "      <td>Jugando con la Nieve</td>\n",
       "      <td>Ñengo Flow</td>\n",
       "      <td>spotify:track:6HnlIqJUzp4kv4QvPzolem</td>\n",
       "      <td>0.841</td>\n",
       "      <td>0.958</td>\n",
       "      <td>2</td>\n",
       "      <td>-3.263</td>\n",
       "      <td>1</td>\n",
       "      <td>0.2160</td>\n",
       "      <td>0.1430</td>\n",
       "      <td>0.000000</td>\n",
       "      <td>0.0467</td>\n",
       "      <td>0.764</td>\n",
       "      <td>112.016</td>\n",
       "      <td>160714</td>\n",
       "      <td>4</td>\n",
       "    </tr>\n",
       "  </tbody>\n",
       "</table>\n",
       "<p>399 rows × 16 columns</p>\n",
       "</div>"
      ],
      "text/plain": [
       "                                                 title         artists  \\\n",
       "0                                                Diles       Bad Bunny   \n",
       "7    Cayó La Noche (feat. Cruz Cafuné, Abhir Hathi,...      La Pantera   \n",
       "14                                               Limbo    Daddy Yankee   \n",
       "15                                             Lovumba    Daddy Yankee   \n",
       "16                                      No Sigue Modas      Juan Magán   \n",
       "..                                                 ...             ...   \n",
       "178                                  Tiempos de Plan B           Maldy   \n",
       "179                                    REMIX EXCLUSIVO            Feid   \n",
       "180                                        Coco Chanel  Eladio Carrion   \n",
       "182                                  Las Bratz (Remix)           Aissa   \n",
       "189                               Jugando con la Nieve      Ñengo Flow   \n",
       "\n",
       "                                      url  danceability  energy  key  \\\n",
       "0    spotify:track:6C1RD7YQVvt3YQj0CmuTeu         0.813   0.560    2   \n",
       "7    spotify:track:0Bv7O6fmZk3GrNQFYJaXPn         0.672   0.745    5   \n",
       "14   spotify:track:3pDhN3qB33AOPhQEkUCaWt         0.806   0.875    7   \n",
       "15   spotify:track:6oyl7ELfrMqXLhGmIjXY9R         0.734   0.933   11   \n",
       "16   spotify:track:0Qqrehp0IC6ppqIUz6mPCe         0.709   0.801    0   \n",
       "..                                    ...           ...     ...  ...   \n",
       "178  spotify:track:3ncDEAUzMdf291D27RJQdM         0.766   0.913    2   \n",
       "179  spotify:track:3eqCJfgJJs8iKx49KO12s3         0.651   0.557    5   \n",
       "180  spotify:track:0PB0O24JqAuNdOAFVJljMS         0.683   0.764    2   \n",
       "182  spotify:track:36W1V6ft4fX7HQVSdIYL0J         0.810   0.815   10   \n",
       "189  spotify:track:6HnlIqJUzp4kv4QvPzolem         0.841   0.958    2   \n",
       "\n",
       "     loudness  mode  speechiness  acousticness  instrumentalness  liveness  \\\n",
       "0      -5.904     0       0.0618        0.1080          0.000000    0.2680   \n",
       "7      -5.269     0       0.3000        0.4380          0.000009    0.0699   \n",
       "14     -3.817     1       0.0880        0.0838          0.001920    0.0650   \n",
       "15     -4.639     0       0.0578        0.0375          0.000000    0.3020   \n",
       "16     -4.688     1       0.0533        0.0252          0.000000    0.1590   \n",
       "..        ...   ...          ...           ...               ...       ...   \n",
       "178    -3.760     1       0.0954        0.0879          0.000000    0.0622   \n",
       "179    -5.466     0       0.2040        0.0358          0.000000    0.1540   \n",
       "180    -5.995     1       0.0441        0.0427          0.000000    0.0963   \n",
       "182    -3.101     0       0.1000        0.2310          0.000000    0.0577   \n",
       "189    -3.263     1       0.2160        0.1430          0.000000    0.0467   \n",
       "\n",
       "     valence    tempo  duration_ms  time_signature  \n",
       "0      0.287  118.033       286041               4  \n",
       "7      0.739  173.974       413111               4  \n",
       "14     0.917  125.063       224693               4  \n",
       "15     0.935  120.987       218413               4  \n",
       "16     0.829  128.007       189840               4  \n",
       "..       ...      ...          ...             ...  \n",
       "178    0.720  167.927       161288               4  \n",
       "179    0.711   87.063       206947               4  \n",
       "180    0.137  149.949       160325               4  \n",
       "182    0.958   95.003       444632               4  \n",
       "189    0.764  112.016       160714               4  \n",
       "\n",
       "[399 rows x 16 columns]"
      ]
     },
     "execution_count": 37,
     "metadata": {},
     "output_type": "execute_result"
    }
   ],
   "source": [
    "final"
   ]
  },
  {
   "cell_type": "code",
   "execution_count": 38,
   "id": "e90b98d9",
   "metadata": {},
   "outputs": [],
   "source": [
    "final.to_csv('spotify_data.csv')"
   ]
  },
  {
   "cell_type": "markdown",
   "id": "676e06bd",
   "metadata": {},
   "source": [
    "# Another playlist"
   ]
  },
  {
   "cell_type": "code",
   "execution_count": null,
   "id": "df0403b2",
   "metadata": {},
   "outputs": [],
   "source": []
  }
 ],
 "metadata": {
  "kernelspec": {
   "display_name": "Python 3 (ipykernel)",
   "language": "python",
   "name": "python3"
  },
  "language_info": {
   "codemirror_mode": {
    "name": "ipython",
    "version": 3
   },
   "file_extension": ".py",
   "mimetype": "text/x-python",
   "name": "python",
   "nbconvert_exporter": "python",
   "pygments_lexer": "ipython3",
   "version": "3.9.13"
  }
 },
 "nbformat": 4,
 "nbformat_minor": 5
}
